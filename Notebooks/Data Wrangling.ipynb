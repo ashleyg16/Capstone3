{
 "cells": [
  {
   "cell_type": "markdown",
   "id": "de47a269",
   "metadata": {},
   "source": [
    "# Capstone 3: Data Wrangling\n",
    "\n",
    "The Aerospace Company currently produces turbojet, turbo propeller and gas turbine engines and parts for the civil aircraft industry but is looking to add a defense exports department to their business. They want to verify that expanding from civil to defense exports is a safe business move. In addition, the company only wants to focus on marketing to countries that already buy engines from US companies. They want a recomendation on who to market their products to. \n",
    "\n",
    "Historical data is available from the International Trade Administration of the U.S. Department of Commerce. This project will use the available data with time series forecasting to predict if defense exports for turbojet, turbo propeller and gas turbine engines and parts are going to increase. Once that is confirmed, a recommendation of what countries to focus on and their market outlooks will be delivered to the Aerospace Company."
   ]
  },
  {
   "cell_type": "markdown",
   "id": "6e3b08da",
   "metadata": {},
   "source": [
    "### Initial Imports"
   ]
  },
  {
   "cell_type": "code",
   "execution_count": 1,
   "id": "b517359b",
   "metadata": {},
   "outputs": [],
   "source": [
    "import pandas as pd\n",
    "import numpy as np\n",
    "import matplotlib.pyplot as plt\n",
    "import seaborn as sns\n",
    "import missingno as msno\n",
    "import re"
   ]
  },
  {
   "cell_type": "markdown",
   "id": "e7dcd560",
   "metadata": {},
   "source": [
    "### Data Collection"
   ]
  },
  {
   "cell_type": "code",
   "execution_count": 2,
   "id": "d5d3f959",
   "metadata": {},
   "outputs": [],
   "source": [
    "#importing both files\n",
    "exports_data_file = '../data/Exports by Year and Country.csv'\n",
    "data_exports = pd.read_csv(exports_data_file)\n",
    "\n",
    "yearly_shipments_file = '../data/Defense Aircraft and Parts Shipments(millions of dollars).csv'\n",
    "data_ys = pd.read_csv(yearly_shipments_file)"
   ]
  },
  {
   "cell_type": "code",
   "execution_count": 3,
   "id": "d84409ad",
   "metadata": {},
   "outputs": [
    {
     "data": {
      "text/html": [
       "<div>\n",
       "<style scoped>\n",
       "    .dataframe tbody tr th:only-of-type {\n",
       "        vertical-align: middle;\n",
       "    }\n",
       "\n",
       "    .dataframe tbody tr th {\n",
       "        vertical-align: top;\n",
       "    }\n",
       "\n",
       "    .dataframe thead th {\n",
       "        text-align: right;\n",
       "    }\n",
       "</style>\n",
       "<table border=\"1\" class=\"dataframe\">\n",
       "  <thead>\n",
       "    <tr style=\"text-align: right;\">\n",
       "      <th></th>\n",
       "      <th>Year</th>\n",
       "      <th>Value</th>\n",
       "      <th>Country</th>\n",
       "      <th>HS Code</th>\n",
       "    </tr>\n",
       "  </thead>\n",
       "  <tbody>\n",
       "    <tr>\n",
       "      <th>0</th>\n",
       "      <td>2010</td>\n",
       "      <td>$0</td>\n",
       "      <td>Algeria</td>\n",
       "      <td>8411114050--TURBOJET A/C TURBINES EXC CIVIL, T...</td>\n",
       "    </tr>\n",
       "    <tr>\n",
       "      <th>1</th>\n",
       "      <td>2010</td>\n",
       "      <td>$0</td>\n",
       "      <td>Algeria</td>\n",
       "      <td>8411214050--TURBOPRPELLR A/C TBN, EX CIVIL, PO...</td>\n",
       "    </tr>\n",
       "    <tr>\n",
       "      <th>2</th>\n",
       "      <td>2010</td>\n",
       "      <td>$0</td>\n",
       "      <td>Algeria</td>\n",
       "      <td>8411224050--TURBOPROPELLER A/C TBN EXCEPT CIVI...</td>\n",
       "    </tr>\n",
       "    <tr>\n",
       "      <th>3</th>\n",
       "      <td>2010</td>\n",
       "      <td>$0</td>\n",
       "      <td>Algeria</td>\n",
       "      <td>8411824050--GAS TURBINE A/C TBN EXC CIVIL, OVE...</td>\n",
       "    </tr>\n",
       "    <tr>\n",
       "      <th>4</th>\n",
       "      <td>2010</td>\n",
       "      <td>$0</td>\n",
       "      <td>Angola</td>\n",
       "      <td>8411814050--GAS TURBINE A/C TBN EXC CIVIL, 500...</td>\n",
       "    </tr>\n",
       "  </tbody>\n",
       "</table>\n",
       "</div>"
      ],
      "text/plain": [
       "   Year Value  Country                                            HS Code\n",
       "0  2010   $0   Algeria  8411114050--TURBOJET A/C TURBINES EXC CIVIL, T...\n",
       "1  2010   $0   Algeria  8411214050--TURBOPRPELLR A/C TBN, EX CIVIL, PO...\n",
       "2  2010   $0   Algeria  8411224050--TURBOPROPELLER A/C TBN EXCEPT CIVI...\n",
       "3  2010   $0   Algeria  8411824050--GAS TURBINE A/C TBN EXC CIVIL, OVE...\n",
       "4  2010   $0    Angola  8411814050--GAS TURBINE A/C TBN EXC CIVIL, 500..."
      ]
     },
     "execution_count": 3,
     "metadata": {},
     "output_type": "execute_result"
    }
   ],
   "source": [
    "data_exports.head()"
   ]
  },
  {
   "cell_type": "code",
   "execution_count": 4,
   "id": "193f391b",
   "metadata": {},
   "outputs": [
    {
     "data": {
      "text/html": [
       "<div>\n",
       "<style scoped>\n",
       "    .dataframe tbody tr th:only-of-type {\n",
       "        vertical-align: middle;\n",
       "    }\n",
       "\n",
       "    .dataframe tbody tr th {\n",
       "        vertical-align: top;\n",
       "    }\n",
       "\n",
       "    .dataframe thead th {\n",
       "        text-align: right;\n",
       "    }\n",
       "</style>\n",
       "<table border=\"1\" class=\"dataframe\">\n",
       "  <thead>\n",
       "    <tr style=\"text-align: right;\">\n",
       "      <th></th>\n",
       "      <th>Year</th>\n",
       "      <th>Jan</th>\n",
       "      <th>Feb</th>\n",
       "      <th>Mar</th>\n",
       "      <th>Apr</th>\n",
       "      <th>May</th>\n",
       "      <th>Jun</th>\n",
       "      <th>Jul</th>\n",
       "      <th>Aug</th>\n",
       "      <th>Sep</th>\n",
       "      <th>Oct</th>\n",
       "      <th>Nov</th>\n",
       "      <th>Dec</th>\n",
       "      <th>Annual</th>\n",
       "      <th>Measure</th>\n",
       "    </tr>\n",
       "  </thead>\n",
       "  <tbody>\n",
       "    <tr>\n",
       "      <th>0</th>\n",
       "      <td>1992</td>\n",
       "      <td>$2719</td>\n",
       "      <td>$3496</td>\n",
       "      <td>$3018</td>\n",
       "      <td>$3433</td>\n",
       "      <td>$2916</td>\n",
       "      <td>$3515</td>\n",
       "      <td>$2894</td>\n",
       "      <td>$3125</td>\n",
       "      <td>$2968</td>\n",
       "      <td>$3213</td>\n",
       "      <td>$3275</td>\n",
       "      <td>$4453</td>\n",
       "      <td>$39025</td>\n",
       "      <td>Defense Aircraft and Parts (millions of dollars)</td>\n",
       "    </tr>\n",
       "    <tr>\n",
       "      <th>1</th>\n",
       "      <td>1993</td>\n",
       "      <td>$2456</td>\n",
       "      <td>$3045</td>\n",
       "      <td>$3001</td>\n",
       "      <td>$2890</td>\n",
       "      <td>$2874</td>\n",
       "      <td>$3024</td>\n",
       "      <td>$2880</td>\n",
       "      <td>$2767</td>\n",
       "      <td>$3257</td>\n",
       "      <td>$3235</td>\n",
       "      <td>$2820</td>\n",
       "      <td>$3218</td>\n",
       "      <td>$35467</td>\n",
       "      <td>Defense Aircraft and Parts (millions of dollars)</td>\n",
       "    </tr>\n",
       "    <tr>\n",
       "      <th>2</th>\n",
       "      <td>1994</td>\n",
       "      <td>$2471</td>\n",
       "      <td>$2698</td>\n",
       "      <td>$3046</td>\n",
       "      <td>$2614</td>\n",
       "      <td>$2506</td>\n",
       "      <td>$2829</td>\n",
       "      <td>$2504</td>\n",
       "      <td>$3007</td>\n",
       "      <td>$2828</td>\n",
       "      <td>$2802</td>\n",
       "      <td>$2837</td>\n",
       "      <td>$3322</td>\n",
       "      <td>$33464</td>\n",
       "      <td>Defense Aircraft and Parts (millions of dollars)</td>\n",
       "    </tr>\n",
       "    <tr>\n",
       "      <th>3</th>\n",
       "      <td>1995</td>\n",
       "      <td>$2090</td>\n",
       "      <td>$2484</td>\n",
       "      <td>$2604</td>\n",
       "      <td>$2389</td>\n",
       "      <td>$2384</td>\n",
       "      <td>$2682</td>\n",
       "      <td>$2366</td>\n",
       "      <td>$2425</td>\n",
       "      <td>$2583</td>\n",
       "      <td>$2480</td>\n",
       "      <td>$2433</td>\n",
       "      <td>$3064</td>\n",
       "      <td>$29984</td>\n",
       "      <td>Defense Aircraft and Parts (millions of dollars)</td>\n",
       "    </tr>\n",
       "    <tr>\n",
       "      <th>4</th>\n",
       "      <td>1996</td>\n",
       "      <td>$1881</td>\n",
       "      <td>$2268</td>\n",
       "      <td>$2790</td>\n",
       "      <td>$2164</td>\n",
       "      <td>$2313</td>\n",
       "      <td>$2687</td>\n",
       "      <td>$2003</td>\n",
       "      <td>$2713</td>\n",
       "      <td>$2921</td>\n",
       "      <td>$2394</td>\n",
       "      <td>$2564</td>\n",
       "      <td>$2995</td>\n",
       "      <td>$29693</td>\n",
       "      <td>Defense Aircraft and Parts (millions of dollars)</td>\n",
       "    </tr>\n",
       "  </tbody>\n",
       "</table>\n",
       "</div>"
      ],
      "text/plain": [
       "   Year    Jan    Feb    Mar    Apr    May    Jun    Jul    Aug    Sep    Oct  \\\n",
       "0  1992  $2719  $3496  $3018  $3433  $2916  $3515  $2894  $3125  $2968  $3213   \n",
       "1  1993  $2456  $3045  $3001  $2890  $2874  $3024  $2880  $2767  $3257  $3235   \n",
       "2  1994  $2471  $2698  $3046  $2614  $2506  $2829  $2504  $3007  $2828  $2802   \n",
       "3  1995  $2090  $2484  $2604  $2389  $2384  $2682  $2366  $2425  $2583  $2480   \n",
       "4  1996  $1881  $2268  $2790  $2164  $2313  $2687  $2003  $2713  $2921  $2394   \n",
       "\n",
       "     Nov    Dec  Annual                                           Measure  \n",
       "0  $3275  $4453  $39025  Defense Aircraft and Parts (millions of dollars)  \n",
       "1  $2820  $3218  $35467  Defense Aircraft and Parts (millions of dollars)  \n",
       "2  $2837  $3322  $33464  Defense Aircraft and Parts (millions of dollars)  \n",
       "3  $2433  $3064  $29984  Defense Aircraft and Parts (millions of dollars)  \n",
       "4  $2564  $2995  $29693  Defense Aircraft and Parts (millions of dollars)  "
      ]
     },
     "execution_count": 4,
     "metadata": {},
     "output_type": "execute_result"
    }
   ],
   "source": [
    "data_ys.head()"
   ]
  },
  {
   "cell_type": "markdown",
   "id": "8cc10e76",
   "metadata": {},
   "source": [
    "### Data Definition"
   ]
  },
  {
   "cell_type": "markdown",
   "id": "bcd5d480",
   "metadata": {},
   "source": [
    "##### For the data_exports data frame"
   ]
  },
  {
   "cell_type": "code",
   "execution_count": 5,
   "id": "d88845eb",
   "metadata": {},
   "outputs": [
    {
     "name": "stdout",
     "output_type": "stream",
     "text": [
      "<class 'pandas.core.frame.DataFrame'>\n",
      "RangeIndex: 7956 entries, 0 to 7955\n",
      "Data columns (total 4 columns):\n",
      " #   Column   Non-Null Count  Dtype \n",
      "---  ------   --------------  ----- \n",
      " 0   Year     7956 non-null   int64 \n",
      " 1   Value    7956 non-null   object\n",
      " 2   Country  7956 non-null   object\n",
      " 3   HS Code  7956 non-null   object\n",
      "dtypes: int64(1), object(3)\n",
      "memory usage: 248.8+ KB\n"
     ]
    }
   ],
   "source": [
    "#going to focus on the data_exports dataframe first\n",
    "data_exports.info()"
   ]
  },
  {
   "cell_type": "markdown",
   "id": "22308859",
   "metadata": {},
   "source": [
    "Value needs to be integer, since its US dollar amounts. HS code should be a string since I might want to manipulate it later."
   ]
  },
  {
   "cell_type": "code",
   "execution_count": 6,
   "id": "2c37ff60",
   "metadata": {},
   "outputs": [
    {
     "data": {
      "text/html": [
       "<div>\n",
       "<style scoped>\n",
       "    .dataframe tbody tr th:only-of-type {\n",
       "        vertical-align: middle;\n",
       "    }\n",
       "\n",
       "    .dataframe tbody tr th {\n",
       "        vertical-align: top;\n",
       "    }\n",
       "\n",
       "    .dataframe thead th {\n",
       "        text-align: right;\n",
       "    }\n",
       "</style>\n",
       "<table border=\"1\" class=\"dataframe\">\n",
       "  <thead>\n",
       "    <tr style=\"text-align: right;\">\n",
       "      <th></th>\n",
       "      <th>Year</th>\n",
       "      <th>Value</th>\n",
       "      <th>Country</th>\n",
       "      <th>HS Code</th>\n",
       "    </tr>\n",
       "  </thead>\n",
       "  <tbody>\n",
       "    <tr>\n",
       "      <th>0</th>\n",
       "      <td>2010</td>\n",
       "      <td>0</td>\n",
       "      <td>Algeria</td>\n",
       "      <td>8411114050--TURBOJET A/C TURBINES EXC CIVIL, T...</td>\n",
       "    </tr>\n",
       "    <tr>\n",
       "      <th>1</th>\n",
       "      <td>2010</td>\n",
       "      <td>0</td>\n",
       "      <td>Algeria</td>\n",
       "      <td>8411214050--TURBOPRPELLR A/C TBN, EX CIVIL, PO...</td>\n",
       "    </tr>\n",
       "    <tr>\n",
       "      <th>2</th>\n",
       "      <td>2010</td>\n",
       "      <td>0</td>\n",
       "      <td>Algeria</td>\n",
       "      <td>8411224050--TURBOPROPELLER A/C TBN EXCEPT CIVI...</td>\n",
       "    </tr>\n",
       "    <tr>\n",
       "      <th>3</th>\n",
       "      <td>2010</td>\n",
       "      <td>0</td>\n",
       "      <td>Algeria</td>\n",
       "      <td>8411824050--GAS TURBINE A/C TBN EXC CIVIL, OVE...</td>\n",
       "    </tr>\n",
       "    <tr>\n",
       "      <th>4</th>\n",
       "      <td>2010</td>\n",
       "      <td>0</td>\n",
       "      <td>Angola</td>\n",
       "      <td>8411814050--GAS TURBINE A/C TBN EXC CIVIL, 500...</td>\n",
       "    </tr>\n",
       "  </tbody>\n",
       "</table>\n",
       "</div>"
      ],
      "text/plain": [
       "   Year Value  Country                                            HS Code\n",
       "0  2010     0  Algeria  8411114050--TURBOJET A/C TURBINES EXC CIVIL, T...\n",
       "1  2010     0  Algeria  8411214050--TURBOPRPELLR A/C TBN, EX CIVIL, PO...\n",
       "2  2010     0  Algeria  8411224050--TURBOPROPELLER A/C TBN EXCEPT CIVI...\n",
       "3  2010     0  Algeria  8411824050--GAS TURBINE A/C TBN EXC CIVIL, OVE...\n",
       "4  2010     0   Angola  8411814050--GAS TURBINE A/C TBN EXC CIVIL, 500..."
      ]
     },
     "execution_count": 6,
     "metadata": {},
     "output_type": "execute_result"
    }
   ],
   "source": [
    "#both '$' and ',' need to be stripped from the Value column first, then it can be changed to an integer\n",
    "data_exports.Value = [re.sub('[^\\d\\.]', '', x) for x in data_exports.Value]\n",
    "data_exports.head()"
   ]
  },
  {
   "cell_type": "code",
   "execution_count": 7,
   "id": "9600bdfa",
   "metadata": {},
   "outputs": [
    {
     "name": "stdout",
     "output_type": "stream",
     "text": [
      "<class 'pandas.core.frame.DataFrame'>\n",
      "RangeIndex: 7956 entries, 0 to 7955\n",
      "Data columns (total 4 columns):\n",
      " #   Column   Non-Null Count  Dtype \n",
      "---  ------   --------------  ----- \n",
      " 0   Year     7956 non-null   int64 \n",
      " 1   Value    7956 non-null   int64 \n",
      " 2   Country  7956 non-null   object\n",
      " 3   HS Code  7956 non-null   string\n",
      "dtypes: int64(2), object(1), string(1)\n",
      "memory usage: 248.8+ KB\n"
     ]
    }
   ],
   "source": [
    "data_exports = data_exports.astype({'Value':'int64', 'HS Code': 'string'})\n",
    "data_exports.info()"
   ]
  },
  {
   "cell_type": "code",
   "execution_count": 8,
   "id": "fff6e97a",
   "metadata": {},
   "outputs": [
    {
     "name": "stdout",
     "output_type": "stream",
     "text": [
      "Year       False\n",
      "Value      False\n",
      "Country    False\n",
      "HS Code    False\n",
      "dtype: bool\n"
     ]
    }
   ],
   "source": [
    "#looks like all values are there, but will double check\n",
    "print(data_exports.isna().any())"
   ]
  },
  {
   "cell_type": "markdown",
   "id": "80761c30",
   "metadata": {},
   "source": [
    "##### For the data_ys data frame"
   ]
  },
  {
   "cell_type": "code",
   "execution_count": 9,
   "id": "1e5e3811",
   "metadata": {},
   "outputs": [
    {
     "name": "stdout",
     "output_type": "stream",
     "text": [
      "<class 'pandas.core.frame.DataFrame'>\n",
      "RangeIndex: 30 entries, 0 to 29\n",
      "Data columns (total 15 columns):\n",
      " #   Column   Non-Null Count  Dtype \n",
      "---  ------   --------------  ----- \n",
      " 0   Year     30 non-null     int64 \n",
      " 1   Jan      30 non-null     object\n",
      " 2   Feb      30 non-null     object\n",
      " 3   Mar      30 non-null     object\n",
      " 4   Apr      30 non-null     object\n",
      " 5   May      30 non-null     object\n",
      " 6   Jun      30 non-null     object\n",
      " 7   Jul      30 non-null     object\n",
      " 8   Aug      30 non-null     object\n",
      " 9   Sep      30 non-null     object\n",
      " 10  Oct      30 non-null     object\n",
      " 11  Nov      30 non-null     object\n",
      " 12  Dec      30 non-null     object\n",
      " 13  Annual   30 non-null     object\n",
      " 14  Measure  30 non-null     object\n",
      "dtypes: int64(1), object(14)\n",
      "memory usage: 3.6+ KB\n"
     ]
    }
   ],
   "source": [
    "#Now for the data_ys data frame\n",
    "data_ys.info()"
   ]
  },
  {
   "cell_type": "markdown",
   "id": "cb09c912",
   "metadata": {},
   "source": [
    "All columns from Jan - Annual needs to be integers, since they are US dollar amounts"
   ]
  },
  {
   "cell_type": "code",
   "execution_count": 10,
   "id": "a1d3a188",
   "metadata": {},
   "outputs": [
    {
     "data": {
      "text/html": [
       "<div>\n",
       "<style scoped>\n",
       "    .dataframe tbody tr th:only-of-type {\n",
       "        vertical-align: middle;\n",
       "    }\n",
       "\n",
       "    .dataframe tbody tr th {\n",
       "        vertical-align: top;\n",
       "    }\n",
       "\n",
       "    .dataframe thead th {\n",
       "        text-align: right;\n",
       "    }\n",
       "</style>\n",
       "<table border=\"1\" class=\"dataframe\">\n",
       "  <thead>\n",
       "    <tr style=\"text-align: right;\">\n",
       "      <th></th>\n",
       "      <th>Year</th>\n",
       "      <th>Jan</th>\n",
       "      <th>Feb</th>\n",
       "      <th>Mar</th>\n",
       "      <th>Apr</th>\n",
       "      <th>May</th>\n",
       "      <th>Jun</th>\n",
       "      <th>Jul</th>\n",
       "      <th>Aug</th>\n",
       "      <th>Sep</th>\n",
       "      <th>Oct</th>\n",
       "      <th>Nov</th>\n",
       "      <th>Dec</th>\n",
       "      <th>Annual</th>\n",
       "      <th>Measure</th>\n",
       "    </tr>\n",
       "  </thead>\n",
       "  <tbody>\n",
       "    <tr>\n",
       "      <th>0</th>\n",
       "      <td>1992</td>\n",
       "      <td>2719</td>\n",
       "      <td>3496</td>\n",
       "      <td>3018</td>\n",
       "      <td>3433</td>\n",
       "      <td>2916</td>\n",
       "      <td>3515</td>\n",
       "      <td>2894</td>\n",
       "      <td>3125</td>\n",
       "      <td>2968</td>\n",
       "      <td>3213</td>\n",
       "      <td>3275</td>\n",
       "      <td>4453</td>\n",
       "      <td>39025</td>\n",
       "      <td>Defense Aircraft and Parts (millions of dollars)</td>\n",
       "    </tr>\n",
       "    <tr>\n",
       "      <th>1</th>\n",
       "      <td>1993</td>\n",
       "      <td>2456</td>\n",
       "      <td>3045</td>\n",
       "      <td>3001</td>\n",
       "      <td>2890</td>\n",
       "      <td>2874</td>\n",
       "      <td>3024</td>\n",
       "      <td>2880</td>\n",
       "      <td>2767</td>\n",
       "      <td>3257</td>\n",
       "      <td>3235</td>\n",
       "      <td>2820</td>\n",
       "      <td>3218</td>\n",
       "      <td>35467</td>\n",
       "      <td>Defense Aircraft and Parts (millions of dollars)</td>\n",
       "    </tr>\n",
       "    <tr>\n",
       "      <th>2</th>\n",
       "      <td>1994</td>\n",
       "      <td>2471</td>\n",
       "      <td>2698</td>\n",
       "      <td>3046</td>\n",
       "      <td>2614</td>\n",
       "      <td>2506</td>\n",
       "      <td>2829</td>\n",
       "      <td>2504</td>\n",
       "      <td>3007</td>\n",
       "      <td>2828</td>\n",
       "      <td>2802</td>\n",
       "      <td>2837</td>\n",
       "      <td>3322</td>\n",
       "      <td>33464</td>\n",
       "      <td>Defense Aircraft and Parts (millions of dollars)</td>\n",
       "    </tr>\n",
       "    <tr>\n",
       "      <th>3</th>\n",
       "      <td>1995</td>\n",
       "      <td>2090</td>\n",
       "      <td>2484</td>\n",
       "      <td>2604</td>\n",
       "      <td>2389</td>\n",
       "      <td>2384</td>\n",
       "      <td>2682</td>\n",
       "      <td>2366</td>\n",
       "      <td>2425</td>\n",
       "      <td>2583</td>\n",
       "      <td>2480</td>\n",
       "      <td>2433</td>\n",
       "      <td>3064</td>\n",
       "      <td>29984</td>\n",
       "      <td>Defense Aircraft and Parts (millions of dollars)</td>\n",
       "    </tr>\n",
       "    <tr>\n",
       "      <th>4</th>\n",
       "      <td>1996</td>\n",
       "      <td>1881</td>\n",
       "      <td>2268</td>\n",
       "      <td>2790</td>\n",
       "      <td>2164</td>\n",
       "      <td>2313</td>\n",
       "      <td>2687</td>\n",
       "      <td>2003</td>\n",
       "      <td>2713</td>\n",
       "      <td>2921</td>\n",
       "      <td>2394</td>\n",
       "      <td>2564</td>\n",
       "      <td>2995</td>\n",
       "      <td>29693</td>\n",
       "      <td>Defense Aircraft and Parts (millions of dollars)</td>\n",
       "    </tr>\n",
       "  </tbody>\n",
       "</table>\n",
       "</div>"
      ],
      "text/plain": [
       "   Year   Jan   Feb   Mar   Apr   May   Jun   Jul   Aug   Sep   Oct   Nov  \\\n",
       "0  1992  2719  3496  3018  3433  2916  3515  2894  3125  2968  3213  3275   \n",
       "1  1993  2456  3045  3001  2890  2874  3024  2880  2767  3257  3235  2820   \n",
       "2  1994  2471  2698  3046  2614  2506  2829  2504  3007  2828  2802  2837   \n",
       "3  1995  2090  2484  2604  2389  2384  2682  2366  2425  2583  2480  2433   \n",
       "4  1996  1881  2268  2790  2164  2313  2687  2003  2713  2921  2394  2564   \n",
       "\n",
       "    Dec  Annual                                           Measure  \n",
       "0  4453   39025  Defense Aircraft and Parts (millions of dollars)  \n",
       "1  3218   35467  Defense Aircraft and Parts (millions of dollars)  \n",
       "2  3322   33464  Defense Aircraft and Parts (millions of dollars)  \n",
       "3  3064   29984  Defense Aircraft and Parts (millions of dollars)  \n",
       "4  2995   29693  Defense Aircraft and Parts (millions of dollars)  "
      ]
     },
     "execution_count": 10,
     "metadata": {},
     "output_type": "execute_result"
    }
   ],
   "source": [
    "#as with the previous data frame, '$' needs to be stripped from the columns first then changed to an integer\n",
    "#to keep from having to do many individual lines of code, '$' will be stripped from the whole dataframe\n",
    "#the targetted columns are the only ones with this character\n",
    "cols_check = ['Jan', 'Feb', 'Mar', 'Apr', 'May', 'Jun', 'Jul', 'Aug', 'Sep', 'Oct', 'Nov', 'Dec', 'Annual']\n",
    "\n",
    "for col in cols_check:\n",
    "    data_ys[col] = [re.sub('[^\\d\\.]', '', x) for x in data_ys[col]]\n",
    "    data_ys[col] = data_ys[col].astype(np.int64)\n",
    "\n",
    "data_ys.head()"
   ]
  },
  {
   "cell_type": "code",
   "execution_count": 11,
   "id": "70613200",
   "metadata": {},
   "outputs": [
    {
     "name": "stdout",
     "output_type": "stream",
     "text": [
      "<class 'pandas.core.frame.DataFrame'>\n",
      "RangeIndex: 30 entries, 0 to 29\n",
      "Data columns (total 15 columns):\n",
      " #   Column   Non-Null Count  Dtype \n",
      "---  ------   --------------  ----- \n",
      " 0   Year     30 non-null     int64 \n",
      " 1   Jan      30 non-null     int64 \n",
      " 2   Feb      30 non-null     int64 \n",
      " 3   Mar      30 non-null     int64 \n",
      " 4   Apr      30 non-null     int64 \n",
      " 5   May      30 non-null     int64 \n",
      " 6   Jun      30 non-null     int64 \n",
      " 7   Jul      30 non-null     int64 \n",
      " 8   Aug      30 non-null     int64 \n",
      " 9   Sep      30 non-null     int64 \n",
      " 10  Oct      30 non-null     int64 \n",
      " 11  Nov      30 non-null     int64 \n",
      " 12  Dec      30 non-null     int64 \n",
      " 13  Annual   30 non-null     int64 \n",
      " 14  Measure  30 non-null     object\n",
      "dtypes: int64(14), object(1)\n",
      "memory usage: 3.6+ KB\n"
     ]
    }
   ],
   "source": [
    "data_ys.info()"
   ]
  },
  {
   "cell_type": "code",
   "execution_count": 12,
   "id": "639bfb5d",
   "metadata": {},
   "outputs": [
    {
     "name": "stdout",
     "output_type": "stream",
     "text": [
      "Year       False\n",
      "Jan        False\n",
      "Feb        False\n",
      "Mar        False\n",
      "Apr        False\n",
      "May        False\n",
      "Jun        False\n",
      "Jul        False\n",
      "Aug        False\n",
      "Sep        False\n",
      "Oct        False\n",
      "Nov        False\n",
      "Dec        False\n",
      "Annual     False\n",
      "Measure    False\n",
      "dtype: bool\n"
     ]
    }
   ],
   "source": [
    "#looks like all values are there, but will double check\n",
    "print(data_ys.isna().any())"
   ]
  },
  {
   "cell_type": "markdown",
   "id": "398dedb1",
   "metadata": {},
   "source": [
    "This section should now be good. Each column in the dataframe has the same number of entries, is in the correct format and is not missing any values."
   ]
  },
  {
   "cell_type": "markdown",
   "id": "ae6351b6",
   "metadata": {},
   "source": [
    "### Data Cleaning"
   ]
  },
  {
   "cell_type": "markdown",
   "id": "123771f6",
   "metadata": {},
   "source": [
    "##### For the data_exports data frame"
   ]
  },
  {
   "cell_type": "code",
   "execution_count": 13,
   "id": "1fbe34a1",
   "metadata": {},
   "outputs": [
    {
     "name": "stdout",
     "output_type": "stream",
     "text": [
      "<StringArray>\n",
      "[  '8411114050--TURBOJET A/C TURBINES EXC CIVIL, THRUST LE 25 KN',\n",
      " '8411214050--TURBOPRPELLR A/C TBN, EX CIVIL, POWR NT OV 1100 KW',\n",
      "    '8411224050--TURBOPROPELLER A/C TBN EXCEPT CIVIL, OV 1100 KW',\n",
      "        '8411824050--GAS TURBINE A/C TBN EXC CIVIL, OVER 5000 KW',\n",
      "   '8411814050--GAS TURBINE A/C TBN EXC CIVIL, 5000 KW AND UNDER',\n",
      "        '8411997050--PARTS OF GAS TURBINE A/C ENG, EXC CIVIL A/C',\n",
      "    '8411124050--TURBOJET A/C TURBINES EX  CIVIL, THRUST OVER 25',\n",
      " '8411917050--PARTS OF TURBOJET & TURBOPROPELLR A/C ENG,EX CIVIL']\n",
      "Length: 8, dtype: string\n"
     ]
    }
   ],
   "source": [
    "#Need to check that the HS code column only includes the values we need, which are all in reference to engines.\n",
    "\n",
    "print(data_exports['HS Code'].unique())"
   ]
  },
  {
   "cell_type": "markdown",
   "id": "cbfa0ee2",
   "metadata": {},
   "source": [
    "Everything looks good. I was expecting this to be a clean dataset because of the data source. Now to look at the Year and Value columns to verify everything looks good."
   ]
  },
  {
   "cell_type": "code",
   "execution_count": 14,
   "id": "21cf99dc",
   "metadata": {},
   "outputs": [
    {
     "data": {
      "text/plain": [
       "count    7956.000000\n",
       "mean     2015.500000\n",
       "std         3.452269\n",
       "min      2010.000000\n",
       "25%      2012.750000\n",
       "50%      2015.500000\n",
       "75%      2018.250000\n",
       "max      2021.000000\n",
       "Name: Year, dtype: float64"
      ]
     },
     "execution_count": 14,
     "metadata": {},
     "output_type": "execute_result"
    }
   ],
   "source": [
    "data_exports.Year.describe()"
   ]
  },
  {
   "cell_type": "code",
   "execution_count": 15,
   "id": "d08a848a",
   "metadata": {},
   "outputs": [
    {
     "data": {
      "text/plain": [
       "count    7.956000e+03\n",
       "mean     6.922574e+06\n",
       "std      5.863919e+07\n",
       "min      0.000000e+00\n",
       "25%      0.000000e+00\n",
       "50%      0.000000e+00\n",
       "75%      2.939980e+05\n",
       "max      1.627558e+09\n",
       "Name: Value, dtype: float64"
      ]
     },
     "execution_count": 15,
     "metadata": {},
     "output_type": "execute_result"
    }
   ],
   "source": [
    "data_exports.Value.describe()"
   ]
  },
  {
   "cell_type": "code",
   "execution_count": 16,
   "id": "06e286cb",
   "metadata": {},
   "outputs": [
    {
     "data": {
      "image/png": "[encoded data removed]",
      "text/plain": [
       "<Figure size 1080x360 with 2 Axes>"
      ]
     },
     "metadata": {
      "needs_background": "light"
     },
     "output_type": "display_data"
    }
   ],
   "source": [
    "fig, axes = plt.subplots(1, 2, figsize=(15, 5))\n",
    "sns.histplot(ax=axes[0], x = data_exports.Year)\n",
    "sns.histplot(ax=axes[1], x = data_exports.Value, bins = 10)\n",
    "plt.show()"
   ]
  },
  {
   "cell_type": "markdown",
   "id": "bef4d33d",
   "metadata": {},
   "source": [
    "There are a lot of zeros in this column, showing that many countries do not buy these defense products from the U.S.\n",
    "For this situation, the company is only looking at countries that do buy these products, so any row with its 'Value' entry = 0 is going to be removed."
   ]
  },
  {
   "cell_type": "code",
   "execution_count": 17,
   "id": "1c525cbe",
   "metadata": {},
   "outputs": [
    {
     "data": {
      "text/html": [
       "<div>\n",
       "<style scoped>\n",
       "    .dataframe tbody tr th:only-of-type {\n",
       "        vertical-align: middle;\n",
       "    }\n",
       "\n",
       "    .dataframe tbody tr th {\n",
       "        vertical-align: top;\n",
       "    }\n",
       "\n",
       "    .dataframe thead th {\n",
       "        text-align: right;\n",
       "    }\n",
       "</style>\n",
       "<table border=\"1\" class=\"dataframe\">\n",
       "  <thead>\n",
       "    <tr style=\"text-align: right;\">\n",
       "      <th></th>\n",
       "      <th>Year</th>\n",
       "      <th>Value</th>\n",
       "      <th>Country</th>\n",
       "      <th>HS Code</th>\n",
       "    </tr>\n",
       "  </thead>\n",
       "  <tbody>\n",
       "    <tr>\n",
       "      <th>0</th>\n",
       "      <td>2010</td>\n",
       "      <td>2575</td>\n",
       "      <td>Comoros</td>\n",
       "      <td>8411917050--PARTS OF TURBOJET &amp; TURBOPROPELLR ...</td>\n",
       "    </tr>\n",
       "    <tr>\n",
       "      <th>1</th>\n",
       "      <td>2010</td>\n",
       "      <td>2629</td>\n",
       "      <td>Belize</td>\n",
       "      <td>8411917050--PARTS OF TURBOJET &amp; TURBOPROPELLR ...</td>\n",
       "    </tr>\n",
       "    <tr>\n",
       "      <th>2</th>\n",
       "      <td>2010</td>\n",
       "      <td>3286</td>\n",
       "      <td>Belarus</td>\n",
       "      <td>8411997050--PARTS OF GAS TURBINE A/C ENG, EXC ...</td>\n",
       "    </tr>\n",
       "    <tr>\n",
       "      <th>3</th>\n",
       "      <td>2010</td>\n",
       "      <td>3348</td>\n",
       "      <td>Jamaica</td>\n",
       "      <td>8411997050--PARTS OF GAS TURBINE A/C ENG, EXC ...</td>\n",
       "    </tr>\n",
       "    <tr>\n",
       "      <th>4</th>\n",
       "      <td>2010</td>\n",
       "      <td>3500</td>\n",
       "      <td>Guatemala</td>\n",
       "      <td>8411997050--PARTS OF GAS TURBINE A/C ENG, EXC ...</td>\n",
       "    </tr>\n",
       "  </tbody>\n",
       "</table>\n",
       "</div>"
      ],
      "text/plain": [
       "   Year  Value    Country                                            HS Code\n",
       "0  2010   2575    Comoros  8411917050--PARTS OF TURBOJET & TURBOPROPELLR ...\n",
       "1  2010   2629     Belize  8411917050--PARTS OF TURBOJET & TURBOPROPELLR ...\n",
       "2  2010   3286    Belarus  8411997050--PARTS OF GAS TURBINE A/C ENG, EXC ...\n",
       "3  2010   3348    Jamaica  8411997050--PARTS OF GAS TURBINE A/C ENG, EXC ...\n",
       "4  2010   3500  Guatemala  8411997050--PARTS OF GAS TURBINE A/C ENG, EXC ..."
      ]
     },
     "execution_count": 17,
     "metadata": {},
     "output_type": "execute_result"
    }
   ],
   "source": [
    "data_exports = data_exports[data_exports.Value != 0]\n",
    "data_exports = data_exports.reset_index(drop = True)\n",
    "data_exports.head()"
   ]
  },
  {
   "cell_type": "code",
   "execution_count": 18,
   "id": "8a96eba5",
   "metadata": {},
   "outputs": [
    {
     "data": {
      "text/plain": [
       "count    3.281000e+03\n",
       "mean     1.678635e+07\n",
       "std      9.040972e+07\n",
       "min      2.520000e+03\n",
       "25%      7.743000e+04\n",
       "50%      7.043230e+05\n",
       "75%      4.719542e+06\n",
       "max      1.627558e+09\n",
       "Name: Value, dtype: float64"
      ]
     },
     "execution_count": 18,
     "metadata": {},
     "output_type": "execute_result"
    }
   ],
   "source": [
    "data_exports.Value.describe()"
   ]
  },
  {
   "cell_type": "markdown",
   "id": "860afa48",
   "metadata": {},
   "source": [
    "This looks much better, and there are still 3281 rows in this dataframe."
   ]
  },
  {
   "cell_type": "markdown",
   "id": "a162fb62",
   "metadata": {},
   "source": [
    "##### For the data_ys data frame"
   ]
  },
  {
   "cell_type": "code",
   "execution_count": 19,
   "id": "de5396bb",
   "metadata": {},
   "outputs": [
    {
     "data": {
      "text/html": [
       "<div>\n",
       "<style scoped>\n",
       "    .dataframe tbody tr th:only-of-type {\n",
       "        vertical-align: middle;\n",
       "    }\n",
       "\n",
       "    .dataframe tbody tr th {\n",
       "        vertical-align: top;\n",
       "    }\n",
       "\n",
       "    .dataframe thead th {\n",
       "        text-align: right;\n",
       "    }\n",
       "</style>\n",
       "<table border=\"1\" class=\"dataframe\">\n",
       "  <thead>\n",
       "    <tr style=\"text-align: right;\">\n",
       "      <th></th>\n",
       "      <th>Year</th>\n",
       "      <th>Jan</th>\n",
       "      <th>Feb</th>\n",
       "      <th>Mar</th>\n",
       "      <th>Apr</th>\n",
       "      <th>May</th>\n",
       "      <th>Jun</th>\n",
       "      <th>Jul</th>\n",
       "      <th>Aug</th>\n",
       "      <th>Sep</th>\n",
       "      <th>Oct</th>\n",
       "      <th>Nov</th>\n",
       "      <th>Dec</th>\n",
       "      <th>Annual</th>\n",
       "    </tr>\n",
       "  </thead>\n",
       "  <tbody>\n",
       "    <tr>\n",
       "      <th>count</th>\n",
       "      <td>30.000000</td>\n",
       "      <td>30.000000</td>\n",
       "      <td>30.000000</td>\n",
       "      <td>30.000000</td>\n",
       "      <td>30.000000</td>\n",
       "      <td>30.000000</td>\n",
       "      <td>30.000000</td>\n",
       "      <td>30.000000</td>\n",
       "      <td>30.000000</td>\n",
       "      <td>30.000000</td>\n",
       "      <td>30.000000</td>\n",
       "      <td>30.000000</td>\n",
       "      <td>30.000000</td>\n",
       "      <td>30.000000</td>\n",
       "    </tr>\n",
       "    <tr>\n",
       "      <th>mean</th>\n",
       "      <td>2006.500000</td>\n",
       "      <td>2882.633333</td>\n",
       "      <td>3407.966667</td>\n",
       "      <td>4207.100000</td>\n",
       "      <td>3306.400000</td>\n",
       "      <td>3560.733333</td>\n",
       "      <td>4184.300000</td>\n",
       "      <td>3221.266667</td>\n",
       "      <td>3667.533333</td>\n",
       "      <td>4166.066667</td>\n",
       "      <td>3624.266667</td>\n",
       "      <td>3867.433333</td>\n",
       "      <td>4360.900000</td>\n",
       "      <td>44456.600000</td>\n",
       "    </tr>\n",
       "    <tr>\n",
       "      <th>std</th>\n",
       "      <td>8.803408</td>\n",
       "      <td>855.589592</td>\n",
       "      <td>968.469731</td>\n",
       "      <td>1392.428822</td>\n",
       "      <td>939.421708</td>\n",
       "      <td>1083.514363</td>\n",
       "      <td>1303.647354</td>\n",
       "      <td>942.658930</td>\n",
       "      <td>1072.460810</td>\n",
       "      <td>1336.195601</td>\n",
       "      <td>1046.030458</td>\n",
       "      <td>1072.933738</td>\n",
       "      <td>1235.913409</td>\n",
       "      <td>12825.315038</td>\n",
       "    </tr>\n",
       "    <tr>\n",
       "      <th>min</th>\n",
       "      <td>1992.000000</td>\n",
       "      <td>1589.000000</td>\n",
       "      <td>1800.000000</td>\n",
       "      <td>2264.000000</td>\n",
       "      <td>1799.000000</td>\n",
       "      <td>1901.000000</td>\n",
       "      <td>2050.000000</td>\n",
       "      <td>1777.000000</td>\n",
       "      <td>1779.000000</td>\n",
       "      <td>2103.000000</td>\n",
       "      <td>1914.000000</td>\n",
       "      <td>2129.000000</td>\n",
       "      <td>2436.000000</td>\n",
       "      <td>24560.000000</td>\n",
       "    </tr>\n",
       "    <tr>\n",
       "      <th>25%</th>\n",
       "      <td>1999.250000</td>\n",
       "      <td>2146.750000</td>\n",
       "      <td>2537.500000</td>\n",
       "      <td>3005.250000</td>\n",
       "      <td>2452.000000</td>\n",
       "      <td>2566.000000</td>\n",
       "      <td>2952.000000</td>\n",
       "      <td>2517.750000</td>\n",
       "      <td>2780.500000</td>\n",
       "      <td>2972.000000</td>\n",
       "      <td>2730.500000</td>\n",
       "      <td>2885.250000</td>\n",
       "      <td>3169.250000</td>\n",
       "      <td>33666.750000</td>\n",
       "    </tr>\n",
       "    <tr>\n",
       "      <th>50%</th>\n",
       "      <td>2006.500000</td>\n",
       "      <td>2797.000000</td>\n",
       "      <td>3483.000000</td>\n",
       "      <td>3989.500000</td>\n",
       "      <td>3181.500000</td>\n",
       "      <td>3488.500000</td>\n",
       "      <td>3860.000000</td>\n",
       "      <td>3160.000000</td>\n",
       "      <td>3531.500000</td>\n",
       "      <td>3891.000000</td>\n",
       "      <td>3466.000000</td>\n",
       "      <td>3853.500000</td>\n",
       "      <td>4447.000000</td>\n",
       "      <td>42562.500000</td>\n",
       "    </tr>\n",
       "    <tr>\n",
       "      <th>75%</th>\n",
       "      <td>2013.750000</td>\n",
       "      <td>3474.750000</td>\n",
       "      <td>4298.250000</td>\n",
       "      <td>5521.250000</td>\n",
       "      <td>4196.000000</td>\n",
       "      <td>4584.500000</td>\n",
       "      <td>5528.250000</td>\n",
       "      <td>4090.000000</td>\n",
       "      <td>4661.750000</td>\n",
       "      <td>5421.500000</td>\n",
       "      <td>4697.250000</td>\n",
       "      <td>4923.500000</td>\n",
       "      <td>5411.750000</td>\n",
       "      <td>56106.500000</td>\n",
       "    </tr>\n",
       "    <tr>\n",
       "      <th>max</th>\n",
       "      <td>2021.000000</td>\n",
       "      <td>4607.000000</td>\n",
       "      <td>5242.000000</td>\n",
       "      <td>6178.000000</td>\n",
       "      <td>5142.000000</td>\n",
       "      <td>5271.000000</td>\n",
       "      <td>6063.000000</td>\n",
       "      <td>4588.000000</td>\n",
       "      <td>5110.000000</td>\n",
       "      <td>6538.000000</td>\n",
       "      <td>5046.000000</td>\n",
       "      <td>5901.000000</td>\n",
       "      <td>6346.000000</td>\n",
       "      <td>62931.000000</td>\n",
       "    </tr>\n",
       "  </tbody>\n",
       "</table>\n",
       "</div>"
      ],
      "text/plain": [
       "              Year          Jan          Feb          Mar          Apr  \\\n",
       "count    30.000000    30.000000    30.000000    30.000000    30.000000   \n",
       "mean   2006.500000  2882.633333  3407.966667  4207.100000  3306.400000   \n",
       "std       8.803408   855.589592   968.469731  1392.428822   939.421708   \n",
       "min    1992.000000  1589.000000  1800.000000  2264.000000  1799.000000   \n",
       "25%    1999.250000  2146.750000  2537.500000  3005.250000  2452.000000   \n",
       "50%    2006.500000  2797.000000  3483.000000  3989.500000  3181.500000   \n",
       "75%    2013.750000  3474.750000  4298.250000  5521.250000  4196.000000   \n",
       "max    2021.000000  4607.000000  5242.000000  6178.000000  5142.000000   \n",
       "\n",
       "               May          Jun          Jul          Aug          Sep  \\\n",
       "count    30.000000    30.000000    30.000000    30.000000    30.000000   \n",
       "mean   3560.733333  4184.300000  3221.266667  3667.533333  4166.066667   \n",
       "std    1083.514363  1303.647354   942.658930  1072.460810  1336.195601   \n",
       "min    1901.000000  2050.000000  1777.000000  1779.000000  2103.000000   \n",
       "25%    2566.000000  2952.000000  2517.750000  2780.500000  2972.000000   \n",
       "50%    3488.500000  3860.000000  3160.000000  3531.500000  3891.000000   \n",
       "75%    4584.500000  5528.250000  4090.000000  4661.750000  5421.500000   \n",
       "max    5271.000000  6063.000000  4588.000000  5110.000000  6538.000000   \n",
       "\n",
       "               Oct          Nov          Dec        Annual  \n",
       "count    30.000000    30.000000    30.000000     30.000000  \n",
       "mean   3624.266667  3867.433333  4360.900000  44456.600000  \n",
       "std    1046.030458  1072.933738  1235.913409  12825.315038  \n",
       "min    1914.000000  2129.000000  2436.000000  24560.000000  \n",
       "25%    2730.500000  2885.250000  3169.250000  33666.750000  \n",
       "50%    3466.000000  3853.500000  4447.000000  42562.500000  \n",
       "75%    4697.250000  4923.500000  5411.750000  56106.500000  \n",
       "max    5046.000000  5901.000000  6346.000000  62931.000000  "
      ]
     },
     "execution_count": 19,
     "metadata": {},
     "output_type": "execute_result"
    }
   ],
   "source": [
    "data_ys.describe()"
   ]
  },
  {
   "cell_type": "markdown",
   "id": "f7064503",
   "metadata": {},
   "source": [
    "I'm not seeing anything that needs to be done to this data frame, all is good to go."
   ]
  },
  {
   "cell_type": "markdown",
   "id": "6165016e",
   "metadata": {},
   "source": [
    "### Saving New File"
   ]
  },
  {
   "cell_type": "code",
   "execution_count": 20,
   "id": "b69e8085",
   "metadata": {},
   "outputs": [],
   "source": [
    "data_exports.to_excel('../data/Cleaned_Exports by Year and Country.xlsx', index = False)\n",
    "data_ys.to_excel('../data/Cleaned_Defense Aircraft and Parts Shipments(millions of dollars).xlsx', index = False)"
   ]
  }
 ],
 "metadata": {
  "kernelspec": {
   "display_name": "Python 3 (ipykernel)",
   "language": "python",
   "name": "python3"
  },
  "language_info": {
   "codemirror_mode": {
    "name": "ipython",
    "version": 3
   },
   "file_extension": ".py",
   "mimetype": "text/x-python",
   "name": "python",
   "nbconvert_exporter": "python",
   "pygments_lexer": "ipython3",
   "version": "3.9.7"
  }
 },
 "nbformat": 4,
 "nbformat_minor": 5
}
