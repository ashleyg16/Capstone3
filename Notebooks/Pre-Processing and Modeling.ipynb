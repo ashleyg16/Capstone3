{
 "cells": [
  {
   "cell_type": "markdown",
   "id": "e868f676",
   "metadata": {},
   "source": [
    "# Capstone 3: Pre-Processing\n",
    "\n",
    "This section will standardize columns, create dumy variables and split the data into train and test sets. "
   ]
  },
  {
   "cell_type": "code",
   "execution_count": 1,
   "id": "1ee4fd8d",
   "metadata": {},
   "outputs": [],
   "source": [
    "import pandas as pd\n",
    "import numpy as np\n",
    "import matplotlib.pyplot as plt\n",
    "import seaborn as sns\n",
    "import missingno as msno\n",
    "from time import strptime"
   ]
  },
  {
   "cell_type": "code",
   "execution_count": 4,
   "id": "1f63689b",
   "metadata": {},
   "outputs": [],
   "source": [
    "exports = pd.read_excel('../data/EDA_exports.xlsx')\n",
    "yearly_shipments = pd.read_excel('../data/EDA_yearly_shipments.xlsx')"
   ]
  },
  {
   "cell_type": "code",
   "execution_count": 5,
   "id": "1524db71",
   "metadata": {},
   "outputs": [
    {
     "data": {
      "text/html": [
       "<div>\n",
       "<style scoped>\n",
       "    .dataframe tbody tr th:only-of-type {\n",
       "        vertical-align: middle;\n",
       "    }\n",
       "\n",
       "    .dataframe tbody tr th {\n",
       "        vertical-align: top;\n",
       "    }\n",
       "\n",
       "    .dataframe thead th {\n",
       "        text-align: right;\n",
       "    }\n",
       "</style>\n",
       "<table border=\"1\" class=\"dataframe\">\n",
       "  <thead>\n",
       "    <tr style=\"text-align: right;\">\n",
       "      <th></th>\n",
       "      <th>Year</th>\n",
       "      <th>Value</th>\n",
       "      <th>Country</th>\n",
       "      <th>HS Code Number</th>\n",
       "      <th>HS Code Description</th>\n",
       "    </tr>\n",
       "  </thead>\n",
       "  <tbody>\n",
       "    <tr>\n",
       "      <th>0</th>\n",
       "      <td>2010</td>\n",
       "      <td>2575</td>\n",
       "      <td>Comoros</td>\n",
       "      <td>8411917050</td>\n",
       "      <td>PARTS OF TURBOJET &amp; TURBOPROPELLR A/C ENG,EX C...</td>\n",
       "    </tr>\n",
       "    <tr>\n",
       "      <th>1</th>\n",
       "      <td>2010</td>\n",
       "      <td>2629</td>\n",
       "      <td>Belize</td>\n",
       "      <td>8411917050</td>\n",
       "      <td>PARTS OF TURBOJET &amp; TURBOPROPELLR A/C ENG,EX C...</td>\n",
       "    </tr>\n",
       "    <tr>\n",
       "      <th>2</th>\n",
       "      <td>2010</td>\n",
       "      <td>3286</td>\n",
       "      <td>Belarus</td>\n",
       "      <td>8411997050</td>\n",
       "      <td>PARTS OF GAS TURBINE A/C ENG, EXC CIVIL A/C</td>\n",
       "    </tr>\n",
       "    <tr>\n",
       "      <th>3</th>\n",
       "      <td>2010</td>\n",
       "      <td>3348</td>\n",
       "      <td>Jamaica</td>\n",
       "      <td>8411997050</td>\n",
       "      <td>PARTS OF GAS TURBINE A/C ENG, EXC CIVIL A/C</td>\n",
       "    </tr>\n",
       "    <tr>\n",
       "      <th>4</th>\n",
       "      <td>2010</td>\n",
       "      <td>3500</td>\n",
       "      <td>Guatemala</td>\n",
       "      <td>8411997050</td>\n",
       "      <td>PARTS OF GAS TURBINE A/C ENG, EXC CIVIL A/C</td>\n",
       "    </tr>\n",
       "  </tbody>\n",
       "</table>\n",
       "</div>"
      ],
      "text/plain": [
       "   Year  Value    Country  HS Code Number  \\\n",
       "0  2010   2575    Comoros      8411917050   \n",
       "1  2010   2629     Belize      8411917050   \n",
       "2  2010   3286    Belarus      8411997050   \n",
       "3  2010   3348    Jamaica      8411997050   \n",
       "4  2010   3500  Guatemala      8411997050   \n",
       "\n",
       "                                 HS Code Description  \n",
       "0  PARTS OF TURBOJET & TURBOPROPELLR A/C ENG,EX C...  \n",
       "1  PARTS OF TURBOJET & TURBOPROPELLR A/C ENG,EX C...  \n",
       "2        PARTS OF GAS TURBINE A/C ENG, EXC CIVIL A/C  \n",
       "3        PARTS OF GAS TURBINE A/C ENG, EXC CIVIL A/C  \n",
       "4        PARTS OF GAS TURBINE A/C ENG, EXC CIVIL A/C  "
      ]
     },
     "execution_count": 5,
     "metadata": {},
     "output_type": "execute_result"
    }
   ],
   "source": [
    "exports.head()"
   ]
  },
  {
   "cell_type": "code",
   "execution_count": 6,
   "id": "7ca9cb44",
   "metadata": {},
   "outputs": [
    {
     "data": {
      "text/html": [
       "<div>\n",
       "<style scoped>\n",
       "    .dataframe tbody tr th:only-of-type {\n",
       "        vertical-align: middle;\n",
       "    }\n",
       "\n",
       "    .dataframe tbody tr th {\n",
       "        vertical-align: top;\n",
       "    }\n",
       "\n",
       "    .dataframe thead th {\n",
       "        text-align: right;\n",
       "    }\n",
       "</style>\n",
       "<table border=\"1\" class=\"dataframe\">\n",
       "  <thead>\n",
       "    <tr style=\"text-align: right;\">\n",
       "      <th></th>\n",
       "      <th>Year-Month</th>\n",
       "      <th>Export Value (millions of dollars)</th>\n",
       "    </tr>\n",
       "  </thead>\n",
       "  <tbody>\n",
       "    <tr>\n",
       "      <th>0</th>\n",
       "      <td>1992-01-01</td>\n",
       "      <td>2719</td>\n",
       "    </tr>\n",
       "    <tr>\n",
       "      <th>1</th>\n",
       "      <td>1992-02-01</td>\n",
       "      <td>3496</td>\n",
       "    </tr>\n",
       "    <tr>\n",
       "      <th>2</th>\n",
       "      <td>1992-03-01</td>\n",
       "      <td>3018</td>\n",
       "    </tr>\n",
       "    <tr>\n",
       "      <th>3</th>\n",
       "      <td>1992-04-01</td>\n",
       "      <td>3433</td>\n",
       "    </tr>\n",
       "    <tr>\n",
       "      <th>4</th>\n",
       "      <td>1992-05-01</td>\n",
       "      <td>2916</td>\n",
       "    </tr>\n",
       "  </tbody>\n",
       "</table>\n",
       "</div>"
      ],
      "text/plain": [
       "  Year-Month  Export Value (millions of dollars)\n",
       "0 1992-01-01                                2719\n",
       "1 1992-02-01                                3496\n",
       "2 1992-03-01                                3018\n",
       "3 1992-04-01                                3433\n",
       "4 1992-05-01                                2916"
      ]
     },
     "execution_count": 6,
     "metadata": {},
     "output_type": "execute_result"
    }
   ],
   "source": [
    "yearly_shipments.head()"
   ]
  },
  {
   "cell_type": "code",
   "execution_count": 10,
   "id": "08faba7a",
   "metadata": {},
   "outputs": [
    {
     "data": {
      "text/plain": [
       "174"
      ]
     },
     "execution_count": 10,
     "metadata": {},
     "output_type": "execute_result"
    }
   ],
   "source": [
    "#seeing how many countries are included in this dataset\n",
    "exports.Country.nunique()"
   ]
  },
  {
   "cell_type": "code",
   "execution_count": null,
   "id": "2005a536",
   "metadata": {},
   "outputs": [],
   "source": [
    " "
   ]
  }
 ],
 "metadata": {
  "kernelspec": {
   "display_name": "Python 3 (ipykernel)",
   "language": "python",
   "name": "python3"
  },
  "language_info": {
   "codemirror_mode": {
    "name": "ipython",
    "version": 3
   },
   "file_extension": ".py",
   "mimetype": "text/x-python",
   "name": "python",
   "nbconvert_exporter": "python",
   "pygments_lexer": "ipython3",
   "version": "3.9.7"
  }
 },
 "nbformat": 4,
 "nbformat_minor": 5
}
